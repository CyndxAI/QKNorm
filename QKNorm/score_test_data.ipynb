{
 "cells": [
  {
   "cell_type": "markdown",
   "metadata": {},
   "source": [
    "## This notebook uses the scoring code from the repo for Transformers without Tears to calculate BLEU for a trained model on the en-vi test set"
   ]
  },
  {
   "cell_type": "code",
   "execution_count": 3,
   "metadata": {
    "collapsed": false,
    "jupyter": {
     "outputs_hidden": false
    }
   },
   "outputs": [
    {
     "data": {
      "text/plain": [
       "'BLEU = 33.24, 64.9/40.5/26.6/17.8 (BP=0.994, ratio=0.994, hyp_len=33551, ref_len=33738)\\n\\n'"
      ]
     },
     "execution_count": 3,
     "metadata": {},
     "output_type": "execute_result"
    }
   ],
   "source": [
    "import re\n",
    "import logging\n",
    "from datetime import timedelta\n",
    "from subprocess import Popen, PIPE\n",
    "import torch\n",
    "import utils as ut\n",
    "\n",
    "# Included in data.zip\n",
    "ref_file = './data/en2vi/test.vi'\n",
    "# Generated once a model has finished training -- still includes BPE\n",
    "trans_file = './data/en2vi/test.en.bpe.best_trans'\n",
    "# perl script from the Transformers without Tears repo\n",
    "# That repo contains 2 scripts but the author says this one is better \n",
    "# because scores aren't affected by tokenization differences\n",
    "bleu_script = './scripts/multi-bleu-detok.perl'\n",
    "\n",
    "def remove_bpe(infile, outfile=None):\n",
    "    if not outfile:\n",
    "        outfile = infile + '.nobpe'\n",
    "\n",
    "    open(outfile, 'w').close()\n",
    "    Popen(\"sed -r 's/(@@ )|(@@ ?$)//g' < {} > {}\".format(infile, outfile), shell=True, stdout=PIPE).communicate()\n",
    "\n",
    "\n",
    "### remove BPE from test.en.bpe.best_trans and create test.en.bpe.best_trans.nobpe\n",
    "ut.remove_bpe(trans_file)\n",
    "\n",
    "nobpe_best_trans_file = './data/en2vi/test.en.bpe.best_trans.nobpe'\n",
    "### score test.en.bpe.best_trans.nobpe against \n",
    "bleu, msg = ut.calc_bleu(bleu_script, nobpe_best_trans_file, ref_file)\n",
    "\n",
    "msg"
   ]
  }
 ],
 "metadata": {
  "anaconda-cloud": {},
  "environment": {
   "name": "pytorch-gpu.1-4.m56",
   "type": "gcloud",
   "uri": "gcr.io/deeplearning-platform-release/pytorch-gpu.1-4:m56"
  },
  "kernelspec": {
   "display_name": "Python 3",
   "language": "python",
   "name": "python3"
  },
  "language_info": {
   "codemirror_mode": {
    "name": "ipython",
    "version": 3
   },
   "file_extension": ".py",
   "mimetype": "text/x-python",
   "name": "python",
   "nbconvert_exporter": "python",
   "pygments_lexer": "ipython3",
   "version": "3.7.8"
  }
 },
 "nbformat": 4,
 "nbformat_minor": 4
}
